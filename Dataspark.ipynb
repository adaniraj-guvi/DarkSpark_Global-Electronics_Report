{
 "cells": [
  {
   "cell_type": "code",
   "execution_count": 1,
   "id": "a9fdd881-a564-45cb-a4c6-c7ccbb8b694a",
   "metadata": {},
   "outputs": [],
   "source": [
    "import pandas as pd\n",
    "import numpy as np\n",
    "import seaborn as sns\n",
    "import matplotlib.pyplot as plt "
   ]
  },
  {
   "cell_type": "code",
   "execution_count": 2,
   "id": "00be4068-1072-4787-97d4-f102afd9e0b7",
   "metadata": {},
   "outputs": [],
   "source": [
    "global_sales = pd.read_csv(r\"C:\\Users\\thang\\OneDrive\\Documents\\Guvi\\Course Project\\Dataspark Project02\\Dataspark dataset\\sales.csv\")"
   ]
  },
  {
   "cell_type": "code",
   "execution_count": 3,
   "id": "6bfc670e-68ea-48cf-8efc-458da386acb5",
   "metadata": {},
   "outputs": [
    {
     "data": {
      "text/plain": [
       "(62884, 9)"
      ]
     },
     "execution_count": 3,
     "metadata": {},
     "output_type": "execute_result"
    }
   ],
   "source": [
    "global_sales.shape"
   ]
  },
  {
   "cell_type": "code",
   "execution_count": 4,
   "id": "3a572b3f-8e76-4b25-afc0-724ecba82ce9",
   "metadata": {},
   "outputs": [
    {
     "data": {
      "text/plain": [
       "Index(['Order Number', 'Line Item', 'Order Date', 'Delivery Date',\n",
       "       'CustomerKey', 'StoreKey', 'ProductKey', 'Quantity', 'Currency Code'],\n",
       "      dtype='object')"
      ]
     },
     "execution_count": 4,
     "metadata": {},
     "output_type": "execute_result"
    }
   ],
   "source": [
    "global_sales.columns"
   ]
  },
  {
   "cell_type": "code",
   "execution_count": 5,
   "id": "4e449062-72d5-4493-af50-acefdd17221c",
   "metadata": {},
   "outputs": [
    {
     "data": {
      "text/plain": [
       "array([[366000, 1, '01-01-2016', ..., 1304, 1, 'CAD'],\n",
       "       [366001, 1, '01-01-2016', ..., 1048, 2, 'USD'],\n",
       "       [366001, 2, '01-01-2016', ..., 2007, 1, 'USD'],\n",
       "       ...,\n",
       "       [2243032, 1, '2/20/2021', ..., 1613, 2, 'CAD'],\n",
       "       [2243032, 2, '2/20/2021', ..., 1717, 2, 'CAD'],\n",
       "       [2243032, 3, '2/20/2021', ..., 464, 7, 'CAD']], dtype=object)"
      ]
     },
     "execution_count": 5,
     "metadata": {},
     "output_type": "execute_result"
    }
   ],
   "source": [
    "global_sales.values"
   ]
  },
  {
   "cell_type": "code",
   "execution_count": 6,
   "id": "f68d7f5f-1780-4c33-9c79-92a4bf9e6e29",
   "metadata": {},
   "outputs": [
    {
     "data": {
      "text/plain": [
       "Order Number      int64\n",
       "Line Item         int64\n",
       "Order Date       object\n",
       "Delivery Date    object\n",
       "CustomerKey       int64\n",
       "StoreKey          int64\n",
       "ProductKey        int64\n",
       "Quantity          int64\n",
       "Currency Code    object\n",
       "dtype: object"
      ]
     },
     "execution_count": 6,
     "metadata": {},
     "output_type": "execute_result"
    }
   ],
   "source": [
    "global_sales.dtypes"
   ]
  },
  {
   "cell_type": "code",
   "execution_count": 7,
   "id": "13cac6a0-20d5-415f-910c-dda7d9cf537a",
   "metadata": {},
   "outputs": [
    {
     "data": {
      "text/plain": [
       "(62884,)"
      ]
     },
     "execution_count": 7,
     "metadata": {},
     "output_type": "execute_result"
    }
   ],
   "source": [
    "global_sales['Order Date'].shape"
   ]
  },
  {
   "cell_type": "code",
   "execution_count": 8,
   "id": "d432b74b-d12d-4b40-8c1f-9d983900bcca",
   "metadata": {},
   "outputs": [
    {
     "data": {
      "text/plain": [
       "(62884,)"
      ]
     },
     "execution_count": 8,
     "metadata": {},
     "output_type": "execute_result"
    }
   ],
   "source": [
    "global_sales['Delivery Date'].shape"
   ]
  },
  {
   "cell_type": "code",
   "execution_count": 9,
   "id": "0870c188-c387-4542-bfc3-21f51f0fd3ae",
   "metadata": {},
   "outputs": [],
   "source": [
    "global_sales['Order Date'] = pd.to_datetime(global_sales['Order Date'],dayfirst=True,errors='coerce')\n",
    "global_sales['Delivery Date'] = pd.to_datetime(global_sales['Order Date'],dayfirst=True,errors='coerce')"
   ]
  },
  {
   "cell_type": "code",
   "execution_count": 10,
   "id": "df631ddb-0009-4d64-b4a1-2d88ece50ca9",
   "metadata": {},
   "outputs": [
    {
     "data": {
      "text/plain": [
       "Order Number              int64\n",
       "Line Item                 int64\n",
       "Order Date       datetime64[ns]\n",
       "Delivery Date    datetime64[ns]\n",
       "CustomerKey               int64\n",
       "StoreKey                  int64\n",
       "ProductKey                int64\n",
       "Quantity                  int64\n",
       "Currency Code            object\n",
       "dtype: object"
      ]
     },
     "execution_count": 10,
     "metadata": {},
     "output_type": "execute_result"
    }
   ],
   "source": [
    "global_sales.dtypes"
   ]
  },
  {
   "cell_type": "code",
   "execution_count": 11,
   "id": "238250cd-06d2-421c-9033-5587adbd6242",
   "metadata": {},
   "outputs": [
    {
     "data": {
      "text/plain": [
       "Order Number         0\n",
       "Line Item            0\n",
       "Order Date       38540\n",
       "Delivery Date    38540\n",
       "CustomerKey          0\n",
       "StoreKey             0\n",
       "ProductKey           0\n",
       "Quantity             0\n",
       "Currency Code        0\n",
       "dtype: int64"
      ]
     },
     "execution_count": 11,
     "metadata": {},
     "output_type": "execute_result"
    }
   ],
   "source": [
    "global_sales.isnull().sum()"
   ]
  },
  {
   "cell_type": "code",
   "execution_count": 12,
   "id": "487be189-c3c7-4d03-8307-9800c0afe360",
   "metadata": {},
   "outputs": [],
   "source": [
    "global_sales.dropna(inplace=True)"
   ]
  },
  {
   "cell_type": "code",
   "execution_count": 13,
   "id": "05b0afcc-46e1-4515-9bad-2a1bad26939f",
   "metadata": {},
   "outputs": [
    {
     "data": {
      "text/plain": [
       "Order Number     0\n",
       "Line Item        0\n",
       "Order Date       0\n",
       "Delivery Date    0\n",
       "CustomerKey      0\n",
       "StoreKey         0\n",
       "ProductKey       0\n",
       "Quantity         0\n",
       "Currency Code    0\n",
       "dtype: int64"
      ]
     },
     "execution_count": 13,
     "metadata": {},
     "output_type": "execute_result"
    }
   ],
   "source": [
    "global_sales.isnull().sum()"
   ]
  },
  {
   "cell_type": "code",
   "execution_count": 14,
   "id": "60d36d6b-35ea-4017-8e51-288ebd6cfa5f",
   "metadata": {},
   "outputs": [
    {
     "data": {
      "text/plain": [
       "(24344, 9)"
      ]
     },
     "execution_count": 14,
     "metadata": {},
     "output_type": "execute_result"
    }
   ],
   "source": [
    "global_sales.shape"
   ]
  },
  {
   "cell_type": "code",
   "execution_count": 15,
   "id": "543d05d9-0f5f-4b4c-a401-7813b66a6648",
   "metadata": {},
   "outputs": [],
   "source": [
    "global_products = pd.read_csv(r\"C:\\Users\\thang\\OneDrive\\Documents\\Guvi\\Course Project\\Dataspark Project02\\Dataspark dataset\\Products.csv\")"
   ]
  },
  {
   "cell_type": "code",
   "execution_count": 16,
   "id": "b8ff65a9-cdf9-44f7-b458-1d33ca96b32c",
   "metadata": {},
   "outputs": [
    {
     "data": {
      "text/plain": [
       "(2517, 10)"
      ]
     },
     "execution_count": 16,
     "metadata": {},
     "output_type": "execute_result"
    }
   ],
   "source": [
    "global_products.shape"
   ]
  },
  {
   "cell_type": "code",
   "execution_count": 17,
   "id": "37d9de53-1721-4b14-a395-c52bdbb89bd6",
   "metadata": {},
   "outputs": [
    {
     "data": {
      "text/plain": [
       "Index(['ProductKey', 'Product Name', 'Brand', 'Color', 'Unit Cost USD',\n",
       "       'Unit Price USD', 'SubcategoryKey', 'Subcategory', 'CategoryKey',\n",
       "       'Category'],\n",
       "      dtype='object')"
      ]
     },
     "execution_count": 17,
     "metadata": {},
     "output_type": "execute_result"
    }
   ],
   "source": [
    "global_products.columns"
   ]
  },
  {
   "cell_type": "code",
   "execution_count": 18,
   "id": "4b562346-66bf-424f-a3d3-5c8cea674b86",
   "metadata": {},
   "outputs": [
    {
     "data": {
      "text/plain": [
       "ProductKey         int64\n",
       "Product Name      object\n",
       "Brand             object\n",
       "Color             object\n",
       "Unit Cost USD     object\n",
       "Unit Price USD    object\n",
       "SubcategoryKey     int64\n",
       "Subcategory       object\n",
       "CategoryKey        int64\n",
       "Category          object\n",
       "dtype: object"
      ]
     },
     "execution_count": 18,
     "metadata": {},
     "output_type": "execute_result"
    }
   ],
   "source": [
    "global_products.dtypes"
   ]
  },
  {
   "cell_type": "code",
   "execution_count": 19,
   "id": "248dc0ec-6340-43fe-b58e-8cd2247c63e6",
   "metadata": {},
   "outputs": [
    {
     "data": {
      "text/plain": [
       "ProductKey        0\n",
       "Product Name      0\n",
       "Brand             0\n",
       "Color             0\n",
       "Unit Cost USD     0\n",
       "Unit Price USD    0\n",
       "SubcategoryKey    0\n",
       "Subcategory       0\n",
       "CategoryKey       0\n",
       "Category          0\n",
       "dtype: int64"
      ]
     },
     "execution_count": 19,
     "metadata": {},
     "output_type": "execute_result"
    }
   ],
   "source": [
    "global_products.isnull().sum()"
   ]
  },
  {
   "cell_type": "code",
   "execution_count": 20,
   "id": "cacf182d-f45b-476c-992b-79e8d766f4dc",
   "metadata": {},
   "outputs": [
    {
     "data": {
      "text/html": [
       "<div>\n",
       "<style scoped>\n",
       "    .dataframe tbody tr th:only-of-type {\n",
       "        vertical-align: middle;\n",
       "    }\n",
       "\n",
       "    .dataframe tbody tr th {\n",
       "        vertical-align: top;\n",
       "    }\n",
       "\n",
       "    .dataframe thead th {\n",
       "        text-align: right;\n",
       "    }\n",
       "</style>\n",
       "<table border=\"1\" class=\"dataframe\">\n",
       "  <thead>\n",
       "    <tr style=\"text-align: right;\">\n",
       "      <th></th>\n",
       "      <th>ProductKey</th>\n",
       "      <th>Product Name</th>\n",
       "      <th>Brand</th>\n",
       "      <th>Color</th>\n",
       "      <th>Unit Cost USD</th>\n",
       "      <th>Unit Price USD</th>\n",
       "      <th>SubcategoryKey</th>\n",
       "      <th>Subcategory</th>\n",
       "      <th>CategoryKey</th>\n",
       "      <th>Category</th>\n",
       "    </tr>\n",
       "  </thead>\n",
       "  <tbody>\n",
       "    <tr>\n",
       "      <th>0</th>\n",
       "      <td>1</td>\n",
       "      <td>Contoso 512MB MP3 Player E51 Silver</td>\n",
       "      <td>Contoso</td>\n",
       "      <td>Silver</td>\n",
       "      <td>$6.62</td>\n",
       "      <td>$12.99</td>\n",
       "      <td>101</td>\n",
       "      <td>MP4&amp;MP3</td>\n",
       "      <td>1</td>\n",
       "      <td>Audio</td>\n",
       "    </tr>\n",
       "    <tr>\n",
       "      <th>1</th>\n",
       "      <td>2</td>\n",
       "      <td>Contoso 512MB MP3 Player E51 Blue</td>\n",
       "      <td>Contoso</td>\n",
       "      <td>Blue</td>\n",
       "      <td>$6.62</td>\n",
       "      <td>$12.99</td>\n",
       "      <td>101</td>\n",
       "      <td>MP4&amp;MP3</td>\n",
       "      <td>1</td>\n",
       "      <td>Audio</td>\n",
       "    </tr>\n",
       "    <tr>\n",
       "      <th>2</th>\n",
       "      <td>3</td>\n",
       "      <td>Contoso 1G MP3 Player E100 White</td>\n",
       "      <td>Contoso</td>\n",
       "      <td>White</td>\n",
       "      <td>$7.40</td>\n",
       "      <td>$14.52</td>\n",
       "      <td>101</td>\n",
       "      <td>MP4&amp;MP3</td>\n",
       "      <td>1</td>\n",
       "      <td>Audio</td>\n",
       "    </tr>\n",
       "    <tr>\n",
       "      <th>3</th>\n",
       "      <td>4</td>\n",
       "      <td>Contoso 2G MP3 Player E200 Silver</td>\n",
       "      <td>Contoso</td>\n",
       "      <td>Silver</td>\n",
       "      <td>$11.00</td>\n",
       "      <td>$21.57</td>\n",
       "      <td>101</td>\n",
       "      <td>MP4&amp;MP3</td>\n",
       "      <td>1</td>\n",
       "      <td>Audio</td>\n",
       "    </tr>\n",
       "    <tr>\n",
       "      <th>4</th>\n",
       "      <td>5</td>\n",
       "      <td>Contoso 2G MP3 Player E200 Red</td>\n",
       "      <td>Contoso</td>\n",
       "      <td>Red</td>\n",
       "      <td>$11.00</td>\n",
       "      <td>$21.57</td>\n",
       "      <td>101</td>\n",
       "      <td>MP4&amp;MP3</td>\n",
       "      <td>1</td>\n",
       "      <td>Audio</td>\n",
       "    </tr>\n",
       "    <tr>\n",
       "      <th>5</th>\n",
       "      <td>6</td>\n",
       "      <td>Contoso 2G MP3 Player E200 Black</td>\n",
       "      <td>Contoso</td>\n",
       "      <td>Black</td>\n",
       "      <td>$11.00</td>\n",
       "      <td>$21.57</td>\n",
       "      <td>101</td>\n",
       "      <td>MP4&amp;MP3</td>\n",
       "      <td>1</td>\n",
       "      <td>Audio</td>\n",
       "    </tr>\n",
       "    <tr>\n",
       "      <th>6</th>\n",
       "      <td>7</td>\n",
       "      <td>Contoso 2G MP3 Player E200 Blue</td>\n",
       "      <td>Contoso</td>\n",
       "      <td>Blue</td>\n",
       "      <td>$11.00</td>\n",
       "      <td>$21.57</td>\n",
       "      <td>101</td>\n",
       "      <td>MP4&amp;MP3</td>\n",
       "      <td>1</td>\n",
       "      <td>Audio</td>\n",
       "    </tr>\n",
       "    <tr>\n",
       "      <th>7</th>\n",
       "      <td>8</td>\n",
       "      <td>Contoso 4G MP3 Player E400 Silver</td>\n",
       "      <td>Contoso</td>\n",
       "      <td>Silver</td>\n",
       "      <td>$30.58</td>\n",
       "      <td>$59.99</td>\n",
       "      <td>101</td>\n",
       "      <td>MP4&amp;MP3</td>\n",
       "      <td>1</td>\n",
       "      <td>Audio</td>\n",
       "    </tr>\n",
       "    <tr>\n",
       "      <th>8</th>\n",
       "      <td>9</td>\n",
       "      <td>Contoso 4G MP3 Player E400 Black</td>\n",
       "      <td>Contoso</td>\n",
       "      <td>Black</td>\n",
       "      <td>$30.58</td>\n",
       "      <td>$59.99</td>\n",
       "      <td>101</td>\n",
       "      <td>MP4&amp;MP3</td>\n",
       "      <td>1</td>\n",
       "      <td>Audio</td>\n",
       "    </tr>\n",
       "    <tr>\n",
       "      <th>9</th>\n",
       "      <td>10</td>\n",
       "      <td>Contoso 4G MP3 Player E400 Green</td>\n",
       "      <td>Contoso</td>\n",
       "      <td>Green</td>\n",
       "      <td>$30.58</td>\n",
       "      <td>$59.99</td>\n",
       "      <td>101</td>\n",
       "      <td>MP4&amp;MP3</td>\n",
       "      <td>1</td>\n",
       "      <td>Audio</td>\n",
       "    </tr>\n",
       "  </tbody>\n",
       "</table>\n",
       "</div>"
      ],
      "text/plain": [
       "   ProductKey                         Product Name    Brand   Color  \\\n",
       "0           1  Contoso 512MB MP3 Player E51 Silver  Contoso  Silver   \n",
       "1           2    Contoso 512MB MP3 Player E51 Blue  Contoso    Blue   \n",
       "2           3     Contoso 1G MP3 Player E100 White  Contoso   White   \n",
       "3           4    Contoso 2G MP3 Player E200 Silver  Contoso  Silver   \n",
       "4           5       Contoso 2G MP3 Player E200 Red  Contoso     Red   \n",
       "5           6     Contoso 2G MP3 Player E200 Black  Contoso   Black   \n",
       "6           7      Contoso 2G MP3 Player E200 Blue  Contoso    Blue   \n",
       "7           8    Contoso 4G MP3 Player E400 Silver  Contoso  Silver   \n",
       "8           9     Contoso 4G MP3 Player E400 Black  Contoso   Black   \n",
       "9          10     Contoso 4G MP3 Player E400 Green  Contoso   Green   \n",
       "\n",
       "  Unit Cost USD Unit Price USD  SubcategoryKey Subcategory  CategoryKey  \\\n",
       "0        $6.62         $12.99              101     MP4&MP3            1   \n",
       "1        $6.62         $12.99              101     MP4&MP3            1   \n",
       "2        $7.40         $14.52              101     MP4&MP3            1   \n",
       "3       $11.00         $21.57              101     MP4&MP3            1   \n",
       "4       $11.00         $21.57              101     MP4&MP3            1   \n",
       "5       $11.00         $21.57              101     MP4&MP3            1   \n",
       "6       $11.00         $21.57              101     MP4&MP3            1   \n",
       "7       $30.58         $59.99              101     MP4&MP3            1   \n",
       "8       $30.58         $59.99              101     MP4&MP3            1   \n",
       "9       $30.58         $59.99              101     MP4&MP3            1   \n",
       "\n",
       "  Category  \n",
       "0    Audio  \n",
       "1    Audio  \n",
       "2    Audio  \n",
       "3    Audio  \n",
       "4    Audio  \n",
       "5    Audio  \n",
       "6    Audio  \n",
       "7    Audio  \n",
       "8    Audio  \n",
       "9    Audio  "
      ]
     },
     "execution_count": 20,
     "metadata": {},
     "output_type": "execute_result"
    }
   ],
   "source": [
    "global_products.head(10)"
   ]
  },
  {
   "cell_type": "code",
   "execution_count": 21,
   "id": "2fc708ae-b052-4b61-846b-fdce62a51dde",
   "metadata": {},
   "outputs": [],
   "source": [
    "#global_products['Unit Cost USD'] = global_products['Unit Cost USD'].replace({'$': '', ',': ''}).asnumerical()\n",
    "#global_products['Unit Price USD'].replace({'$': '', ',': ''}, regex=True).astype(float)\n",
    "##non_numeric[non_numeric.isna()]\n",
    "#global_products['Unit Price USD'] = pd.to_numeric(global_products['Unit Price USD'].replace({'$': '', ',': ''}, regex=True), errors='coerce').fillna(0)"
   ]
  },
  {
   "cell_type": "code",
   "execution_count": 22,
   "id": "5661e922-4f58-403c-8e9e-74ccfe1c6531",
   "metadata": {},
   "outputs": [],
   "source": [
    "#df['col'] = pd.to_numeric(df['col'], errors='coerce') \n",
    "#global_products['Unit Price USD'] = pd.to_numeric(global_products['Unit Price USD'], error='coerce')"
   ]
  },
  {
   "cell_type": "code",
   "execution_count": 23,
   "id": "c9895568-8165-4bd1-94b5-de60607eb873",
   "metadata": {},
   "outputs": [],
   "source": [
    "# global_products['Unit Cost USD'] = global_products['Unit Cost USD'].replace({'$': '', ',': ''}, regex=True).astype(float)\n",
    "# global_products['Unit Price USD'] = global_products['Unit Price USD'].replace({'$': '', ',': ''}, regex=True).astype(float)\n"
   ]
  },
  {
   "cell_type": "code",
   "execution_count": 24,
   "id": "082d8586-3213-48ba-a840-961340583373",
   "metadata": {},
   "outputs": [
    {
     "data": {
      "text/html": [
       "<div>\n",
       "<style scoped>\n",
       "    .dataframe tbody tr th:only-of-type {\n",
       "        vertical-align: middle;\n",
       "    }\n",
       "\n",
       "    .dataframe tbody tr th {\n",
       "        vertical-align: top;\n",
       "    }\n",
       "\n",
       "    .dataframe thead th {\n",
       "        text-align: right;\n",
       "    }\n",
       "</style>\n",
       "<table border=\"1\" class=\"dataframe\">\n",
       "  <thead>\n",
       "    <tr style=\"text-align: right;\">\n",
       "      <th></th>\n",
       "      <th>ProductKey</th>\n",
       "      <th>Product Name</th>\n",
       "      <th>Brand</th>\n",
       "      <th>Color</th>\n",
       "      <th>Unit Cost USD</th>\n",
       "      <th>Unit Price USD</th>\n",
       "      <th>SubcategoryKey</th>\n",
       "      <th>Subcategory</th>\n",
       "      <th>CategoryKey</th>\n",
       "      <th>Category</th>\n",
       "    </tr>\n",
       "  </thead>\n",
       "  <tbody>\n",
       "    <tr>\n",
       "      <th>2507</th>\n",
       "      <td>2508</td>\n",
       "      <td>Contoso Rubberized Snap-On Cover Hard Case Cel...</td>\n",
       "      <td>Contoso</td>\n",
       "      <td>Silver</td>\n",
       "      <td>$2.42</td>\n",
       "      <td>$4.74</td>\n",
       "      <td>505</td>\n",
       "      <td>Cell phones Accessories</td>\n",
       "      <td>5</td>\n",
       "      <td>Cell phones</td>\n",
       "    </tr>\n",
       "    <tr>\n",
       "      <th>2508</th>\n",
       "      <td>2509</td>\n",
       "      <td>Contoso Original K1m Li-Ion Standard Battery E...</td>\n",
       "      <td>Contoso</td>\n",
       "      <td>Black</td>\n",
       "      <td>$2.07</td>\n",
       "      <td>$4.06</td>\n",
       "      <td>505</td>\n",
       "      <td>Cell phones Accessories</td>\n",
       "      <td>5</td>\n",
       "      <td>Cell phones</td>\n",
       "    </tr>\n",
       "    <tr>\n",
       "      <th>2509</th>\n",
       "      <td>2510</td>\n",
       "      <td>Contoso Original K1m Li-Ion Standard Battery E...</td>\n",
       "      <td>Contoso</td>\n",
       "      <td>White</td>\n",
       "      <td>$2.07</td>\n",
       "      <td>$4.06</td>\n",
       "      <td>505</td>\n",
       "      <td>Cell phones Accessories</td>\n",
       "      <td>5</td>\n",
       "      <td>Cell phones</td>\n",
       "    </tr>\n",
       "    <tr>\n",
       "      <th>2510</th>\n",
       "      <td>2511</td>\n",
       "      <td>Contoso Original K1m Li-Ion Standard Battery E...</td>\n",
       "      <td>Contoso</td>\n",
       "      <td>Silver</td>\n",
       "      <td>$2.07</td>\n",
       "      <td>$4.06</td>\n",
       "      <td>505</td>\n",
       "      <td>Cell phones Accessories</td>\n",
       "      <td>5</td>\n",
       "      <td>Cell phones</td>\n",
       "    </tr>\n",
       "    <tr>\n",
       "      <th>2511</th>\n",
       "      <td>2512</td>\n",
       "      <td>Contoso Bluetooth Active Headphones L15 Black</td>\n",
       "      <td>Contoso</td>\n",
       "      <td>Black</td>\n",
       "      <td>$43.07</td>\n",
       "      <td>$129.99</td>\n",
       "      <td>505</td>\n",
       "      <td>Cell phones Accessories</td>\n",
       "      <td>5</td>\n",
       "      <td>Cell phones</td>\n",
       "    </tr>\n",
       "    <tr>\n",
       "      <th>2512</th>\n",
       "      <td>2513</td>\n",
       "      <td>Contoso Bluetooth Active Headphones L15 Red</td>\n",
       "      <td>Contoso</td>\n",
       "      <td>Red</td>\n",
       "      <td>$43.07</td>\n",
       "      <td>$129.99</td>\n",
       "      <td>505</td>\n",
       "      <td>Cell phones Accessories</td>\n",
       "      <td>5</td>\n",
       "      <td>Cell phones</td>\n",
       "    </tr>\n",
       "    <tr>\n",
       "      <th>2513</th>\n",
       "      <td>2514</td>\n",
       "      <td>Contoso Bluetooth Active Headphones L15 White</td>\n",
       "      <td>Contoso</td>\n",
       "      <td>White</td>\n",
       "      <td>$43.07</td>\n",
       "      <td>$129.99</td>\n",
       "      <td>505</td>\n",
       "      <td>Cell phones Accessories</td>\n",
       "      <td>5</td>\n",
       "      <td>Cell phones</td>\n",
       "    </tr>\n",
       "    <tr>\n",
       "      <th>2514</th>\n",
       "      <td>2515</td>\n",
       "      <td>Contoso In-Line Coupler E180 White</td>\n",
       "      <td>Contoso</td>\n",
       "      <td>White</td>\n",
       "      <td>$1.71</td>\n",
       "      <td>$3.35</td>\n",
       "      <td>505</td>\n",
       "      <td>Cell phones Accessories</td>\n",
       "      <td>5</td>\n",
       "      <td>Cell phones</td>\n",
       "    </tr>\n",
       "    <tr>\n",
       "      <th>2515</th>\n",
       "      <td>2516</td>\n",
       "      <td>Contoso In-Line Coupler E180 Black</td>\n",
       "      <td>Contoso</td>\n",
       "      <td>Black</td>\n",
       "      <td>$1.71</td>\n",
       "      <td>$3.35</td>\n",
       "      <td>505</td>\n",
       "      <td>Cell phones Accessories</td>\n",
       "      <td>5</td>\n",
       "      <td>Cell phones</td>\n",
       "    </tr>\n",
       "    <tr>\n",
       "      <th>2516</th>\n",
       "      <td>2517</td>\n",
       "      <td>Contoso In-Line Coupler E180 Silver</td>\n",
       "      <td>Contoso</td>\n",
       "      <td>Silver</td>\n",
       "      <td>$1.71</td>\n",
       "      <td>$3.35</td>\n",
       "      <td>505</td>\n",
       "      <td>Cell phones Accessories</td>\n",
       "      <td>5</td>\n",
       "      <td>Cell phones</td>\n",
       "    </tr>\n",
       "  </tbody>\n",
       "</table>\n",
       "</div>"
      ],
      "text/plain": [
       "      ProductKey                                       Product Name    Brand  \\\n",
       "2507        2508  Contoso Rubberized Snap-On Cover Hard Case Cel...  Contoso   \n",
       "2508        2509  Contoso Original K1m Li-Ion Standard Battery E...  Contoso   \n",
       "2509        2510  Contoso Original K1m Li-Ion Standard Battery E...  Contoso   \n",
       "2510        2511  Contoso Original K1m Li-Ion Standard Battery E...  Contoso   \n",
       "2511        2512      Contoso Bluetooth Active Headphones L15 Black  Contoso   \n",
       "2512        2513        Contoso Bluetooth Active Headphones L15 Red  Contoso   \n",
       "2513        2514      Contoso Bluetooth Active Headphones L15 White  Contoso   \n",
       "2514        2515                 Contoso In-Line Coupler E180 White  Contoso   \n",
       "2515        2516                 Contoso In-Line Coupler E180 Black  Contoso   \n",
       "2516        2517                Contoso In-Line Coupler E180 Silver  Contoso   \n",
       "\n",
       "       Color Unit Cost USD Unit Price USD  SubcategoryKey  \\\n",
       "2507  Silver        $2.42          $4.74              505   \n",
       "2508   Black        $2.07          $4.06              505   \n",
       "2509   White        $2.07          $4.06              505   \n",
       "2510  Silver        $2.07          $4.06              505   \n",
       "2511   Black       $43.07        $129.99              505   \n",
       "2512     Red       $43.07        $129.99              505   \n",
       "2513   White       $43.07        $129.99              505   \n",
       "2514   White        $1.71          $3.35              505   \n",
       "2515   Black        $1.71          $3.35              505   \n",
       "2516  Silver        $1.71          $3.35              505   \n",
       "\n",
       "                  Subcategory  CategoryKey     Category  \n",
       "2507  Cell phones Accessories            5  Cell phones  \n",
       "2508  Cell phones Accessories            5  Cell phones  \n",
       "2509  Cell phones Accessories            5  Cell phones  \n",
       "2510  Cell phones Accessories            5  Cell phones  \n",
       "2511  Cell phones Accessories            5  Cell phones  \n",
       "2512  Cell phones Accessories            5  Cell phones  \n",
       "2513  Cell phones Accessories            5  Cell phones  \n",
       "2514  Cell phones Accessories            5  Cell phones  \n",
       "2515  Cell phones Accessories            5  Cell phones  \n",
       "2516  Cell phones Accessories            5  Cell phones  "
      ]
     },
     "execution_count": 24,
     "metadata": {},
     "output_type": "execute_result"
    }
   ],
   "source": [
    "global_products.tail(10)"
   ]
  },
  {
   "cell_type": "code",
   "execution_count": 25,
   "id": "b8c37bdf-05a3-4afb-872c-2320c56adc44",
   "metadata": {},
   "outputs": [],
   "source": [
    "product_unique_Category = global_products['Category'].unique()\n",
    "product_unique_Subcategory = global_products['Subcategory'].unique()"
   ]
  },
  {
   "cell_type": "code",
   "execution_count": 26,
   "id": "5902678c-7e80-4bb0-be7b-8a426585eb8c",
   "metadata": {},
   "outputs": [
    {
     "name": "stdout",
     "output_type": "stream",
     "text": [
      "product_unique_Category: (8,)\n",
      "product_unique_Subcategory: (32,)\n"
     ]
    }
   ],
   "source": [
    "print('product_unique_Category:', product_unique_Category.shape)\n",
    "print('product_unique_Subcategory:', product_unique_Subcategory.shape)"
   ]
  },
  {
   "cell_type": "code",
   "execution_count": null,
   "id": "9a0f2ded-2eaa-4699-bd02-e3183d1592af",
   "metadata": {},
   "outputs": [],
   "source": [
    "\n"
   ]
  },
  {
   "cell_type": "code",
   "execution_count": 27,
   "id": "dbf32d50-1262-4af6-8b1a-0fa22f2e45cc",
   "metadata": {},
   "outputs": [],
   "source": [
    "global_Stores = pd.read_csv(r\"C:\\Users\\thang\\OneDrive\\Documents\\Guvi\\Course Project\\Dataspark Project02\\Dataspark dataset\\Stores.csv\")"
   ]
  },
  {
   "cell_type": "code",
   "execution_count": 28,
   "id": "4bd3a253-03bf-4483-ac90-b9b453b19296",
   "metadata": {},
   "outputs": [
    {
     "data": {
      "text/plain": [
       "(67, 5)"
      ]
     },
     "execution_count": 28,
     "metadata": {},
     "output_type": "execute_result"
    }
   ],
   "source": [
    "global_Stores.shape"
   ]
  },
  {
   "cell_type": "code",
   "execution_count": 29,
   "id": "e7567735-b273-4756-b17f-2702659011ea",
   "metadata": {},
   "outputs": [
    {
     "data": {
      "text/plain": [
       "Index(['StoreKey', 'Country', 'State', 'Square Meters', 'Open Date'], dtype='object')"
      ]
     },
     "execution_count": 29,
     "metadata": {},
     "output_type": "execute_result"
    }
   ],
   "source": [
    "\n",
    "global_Stores.columns"
   ]
  },
  {
   "cell_type": "code",
   "execution_count": 30,
   "id": "7009a6fb-668d-4628-9e67-1ccc9f8ea9c8",
   "metadata": {},
   "outputs": [
    {
     "data": {
      "text/plain": [
       "StoreKey         0\n",
       "Country          0\n",
       "State            0\n",
       "Square Meters    1\n",
       "Open Date        0\n",
       "dtype: int64"
      ]
     },
     "execution_count": 30,
     "metadata": {},
     "output_type": "execute_result"
    }
   ],
   "source": [
    "\n",
    "global_Stores.isnull().sum()"
   ]
  },
  {
   "cell_type": "code",
   "execution_count": 31,
   "id": "71872128-551c-47c4-a332-ddd65959416d",
   "metadata": {},
   "outputs": [],
   "source": [
    "global_Stores.dropna(inplace=True)"
   ]
  },
  {
   "cell_type": "code",
   "execution_count": 32,
   "id": "990424ad-513e-4e95-b7fd-aa86c99ba7bf",
   "metadata": {},
   "outputs": [
    {
     "data": {
      "text/plain": [
       "(66, 5)"
      ]
     },
     "execution_count": 32,
     "metadata": {},
     "output_type": "execute_result"
    }
   ],
   "source": [
    "global_Stores.shape"
   ]
  },
  {
   "cell_type": "code",
   "execution_count": 33,
   "id": "fd62e598-726b-42d3-96e0-fdf7fbb43fb9",
   "metadata": {},
   "outputs": [],
   "source": [
    "global_customers = pd.read_csv(r\"C:\\Users\\thang\\OneDrive\\Documents\\Guvi\\Course Project\\Dataspark Project02\\Dataspark dataset\\Customers.csv\", encoding='latin1' )"
   ]
  },
  {
   "cell_type": "code",
   "execution_count": 34,
   "id": "49524b87-d4e4-4ceb-9402-a68234290486",
   "metadata": {},
   "outputs": [
    {
     "data": {
      "text/plain": [
       "(15266, 10)"
      ]
     },
     "execution_count": 34,
     "metadata": {},
     "output_type": "execute_result"
    }
   ],
   "source": [
    "global_customers.shape"
   ]
  },
  {
   "cell_type": "code",
   "execution_count": 35,
   "id": "da80c13e-0f05-4652-8363-25d5fdbb5508",
   "metadata": {},
   "outputs": [
    {
     "data": {
      "text/plain": [
       "CustomerKey     0\n",
       "Gender          0\n",
       "Name            0\n",
       "City            0\n",
       "State Code     10\n",
       "State           0\n",
       "Zip Code        0\n",
       "Country         0\n",
       "Continent       0\n",
       "Birthday        0\n",
       "dtype: int64"
      ]
     },
     "execution_count": 35,
     "metadata": {},
     "output_type": "execute_result"
    }
   ],
   "source": [
    "global_customers.isnull().sum()"
   ]
  },
  {
   "cell_type": "code",
   "execution_count": 36,
   "id": "0ff8cdec-3427-4357-8444-a51cf342ffb3",
   "metadata": {},
   "outputs": [],
   "source": [
    "global_customers.dropna(inplace=True)"
   ]
  },
  {
   "cell_type": "code",
   "execution_count": 37,
   "id": "c81cc68a-8e6a-491c-8764-555582a5aff2",
   "metadata": {},
   "outputs": [
    {
     "data": {
      "text/plain": [
       "(15256, 10)"
      ]
     },
     "execution_count": 37,
     "metadata": {},
     "output_type": "execute_result"
    }
   ],
   "source": [
    "global_customers.shape"
   ]
  },
  {
   "cell_type": "code",
   "execution_count": 38,
   "id": "07915608-6940-4065-a065-34cd502a7a42",
   "metadata": {},
   "outputs": [
    {
     "data": {
      "text/plain": [
       "CustomerKey    0\n",
       "Gender         0\n",
       "Name           0\n",
       "City           0\n",
       "State Code     0\n",
       "State          0\n",
       "Zip Code       0\n",
       "Country        0\n",
       "Continent      0\n",
       "Birthday       0\n",
       "dtype: int64"
      ]
     },
     "execution_count": 38,
     "metadata": {},
     "output_type": "execute_result"
    }
   ],
   "source": [
    "global_customers.isnull().sum()"
   ]
  },
  {
   "cell_type": "code",
   "execution_count": 39,
   "id": "adcb9199-e30a-4ad1-9090-f425ec425192",
   "metadata": {},
   "outputs": [
    {
     "name": "stdout",
     "output_type": "stream",
     "text": [
      "Requirement already satisfied: mysql-connector-python in c:\\users\\thang\\anaconda3\\lib\\site-packages (9.0.0)Note: you may need to restart the kernel to use updated packages.\n",
      "\n"
     ]
    }
   ],
   "source": [
    "pip install mysql-connector-python"
   ]
  },
  {
   "cell_type": "code",
   "execution_count": 40,
   "id": "1f58a01e-a6f3-4844-9ba1-1861c3605dd7",
   "metadata": {},
   "outputs": [],
   "source": [
    "import mysql.connector"
   ]
  },
  {
   "cell_type": "code",
   "execution_count": 41,
   "id": "72796583-8727-4e87-9bb9-f876d68ee0e9",
   "metadata": {},
   "outputs": [],
   "source": [
    "conn = mysql.connector.connect(\n",
    "    host='localhost',\n",
    "    user='root',\n",
    "    password='123456789',\n",
    "    database='ds_projects'\n",
    ")\n",
    "\n",
    "# Create a cursor object to interact with the database\n",
    "cursor = conn.cursor()"
   ]
  },
  {
   "cell_type": "code",
   "execution_count": 42,
   "id": "aa6866f6-670b-4cae-b769-73a3bdc624d2",
   "metadata": {},
   "outputs": [],
   "source": [
    "global_sales_analytics = global_sales.drop('Line Item', axis =1)"
   ]
  },
  {
   "cell_type": "code",
   "execution_count": 43,
   "id": "929538f7-8705-4a9f-9c2b-bf0bb1749381",
   "metadata": {},
   "outputs": [
    {
     "data": {
      "text/html": [
       "<div>\n",
       "<style scoped>\n",
       "    .dataframe tbody tr th:only-of-type {\n",
       "        vertical-align: middle;\n",
       "    }\n",
       "\n",
       "    .dataframe tbody tr th {\n",
       "        vertical-align: top;\n",
       "    }\n",
       "\n",
       "    .dataframe thead th {\n",
       "        text-align: right;\n",
       "    }\n",
       "</style>\n",
       "<table border=\"1\" class=\"dataframe\">\n",
       "  <thead>\n",
       "    <tr style=\"text-align: right;\">\n",
       "      <th></th>\n",
       "      <th>Order Number</th>\n",
       "      <th>Order Date</th>\n",
       "      <th>Delivery Date</th>\n",
       "      <th>CustomerKey</th>\n",
       "      <th>StoreKey</th>\n",
       "      <th>ProductKey</th>\n",
       "      <th>Quantity</th>\n",
       "      <th>Currency Code</th>\n",
       "    </tr>\n",
       "  </thead>\n",
       "  <tbody>\n",
       "    <tr>\n",
       "      <th>0</th>\n",
       "      <td>366000</td>\n",
       "      <td>2016-01-01</td>\n",
       "      <td>2016-01-01</td>\n",
       "      <td>265598</td>\n",
       "      <td>10</td>\n",
       "      <td>1304</td>\n",
       "      <td>1</td>\n",
       "      <td>CAD</td>\n",
       "    </tr>\n",
       "    <tr>\n",
       "      <th>1</th>\n",
       "      <td>366001</td>\n",
       "      <td>2016-01-01</td>\n",
       "      <td>2016-01-01</td>\n",
       "      <td>1269051</td>\n",
       "      <td>0</td>\n",
       "      <td>1048</td>\n",
       "      <td>2</td>\n",
       "      <td>USD</td>\n",
       "    </tr>\n",
       "    <tr>\n",
       "      <th>2</th>\n",
       "      <td>366001</td>\n",
       "      <td>2016-01-01</td>\n",
       "      <td>2016-01-01</td>\n",
       "      <td>1269051</td>\n",
       "      <td>0</td>\n",
       "      <td>2007</td>\n",
       "      <td>1</td>\n",
       "      <td>USD</td>\n",
       "    </tr>\n",
       "    <tr>\n",
       "      <th>3</th>\n",
       "      <td>366002</td>\n",
       "      <td>2016-01-01</td>\n",
       "      <td>2016-01-01</td>\n",
       "      <td>266019</td>\n",
       "      <td>0</td>\n",
       "      <td>1106</td>\n",
       "      <td>7</td>\n",
       "      <td>CAD</td>\n",
       "    </tr>\n",
       "    <tr>\n",
       "      <th>4</th>\n",
       "      <td>366002</td>\n",
       "      <td>2016-01-01</td>\n",
       "      <td>2016-01-01</td>\n",
       "      <td>266019</td>\n",
       "      <td>0</td>\n",
       "      <td>373</td>\n",
       "      <td>1</td>\n",
       "      <td>CAD</td>\n",
       "    </tr>\n",
       "    <tr>\n",
       "      <th>5</th>\n",
       "      <td>366002</td>\n",
       "      <td>2016-01-01</td>\n",
       "      <td>2016-01-01</td>\n",
       "      <td>266019</td>\n",
       "      <td>0</td>\n",
       "      <td>1080</td>\n",
       "      <td>4</td>\n",
       "      <td>CAD</td>\n",
       "    </tr>\n",
       "    <tr>\n",
       "      <th>6</th>\n",
       "      <td>366004</td>\n",
       "      <td>2016-01-01</td>\n",
       "      <td>2016-01-01</td>\n",
       "      <td>1107461</td>\n",
       "      <td>38</td>\n",
       "      <td>163</td>\n",
       "      <td>6</td>\n",
       "      <td>GBP</td>\n",
       "    </tr>\n",
       "    <tr>\n",
       "      <th>7</th>\n",
       "      <td>366004</td>\n",
       "      <td>2016-01-01</td>\n",
       "      <td>2016-01-01</td>\n",
       "      <td>1107461</td>\n",
       "      <td>38</td>\n",
       "      <td>1529</td>\n",
       "      <td>2</td>\n",
       "      <td>GBP</td>\n",
       "    </tr>\n",
       "    <tr>\n",
       "      <th>8</th>\n",
       "      <td>366005</td>\n",
       "      <td>2016-01-01</td>\n",
       "      <td>2016-01-01</td>\n",
       "      <td>844003</td>\n",
       "      <td>33</td>\n",
       "      <td>421</td>\n",
       "      <td>4</td>\n",
       "      <td>EUR</td>\n",
       "    </tr>\n",
       "    <tr>\n",
       "      <th>9</th>\n",
       "      <td>366007</td>\n",
       "      <td>2016-01-01</td>\n",
       "      <td>2016-01-01</td>\n",
       "      <td>2035771</td>\n",
       "      <td>43</td>\n",
       "      <td>1617</td>\n",
       "      <td>1</td>\n",
       "      <td>USD</td>\n",
       "    </tr>\n",
       "  </tbody>\n",
       "</table>\n",
       "</div>"
      ],
      "text/plain": [
       "   Order Number Order Date Delivery Date  CustomerKey  StoreKey  ProductKey  \\\n",
       "0        366000 2016-01-01    2016-01-01       265598        10        1304   \n",
       "1        366001 2016-01-01    2016-01-01      1269051         0        1048   \n",
       "2        366001 2016-01-01    2016-01-01      1269051         0        2007   \n",
       "3        366002 2016-01-01    2016-01-01       266019         0        1106   \n",
       "4        366002 2016-01-01    2016-01-01       266019         0         373   \n",
       "5        366002 2016-01-01    2016-01-01       266019         0        1080   \n",
       "6        366004 2016-01-01    2016-01-01      1107461        38         163   \n",
       "7        366004 2016-01-01    2016-01-01      1107461        38        1529   \n",
       "8        366005 2016-01-01    2016-01-01       844003        33         421   \n",
       "9        366007 2016-01-01    2016-01-01      2035771        43        1617   \n",
       "\n",
       "   Quantity Currency Code  \n",
       "0         1           CAD  \n",
       "1         2           USD  \n",
       "2         1           USD  \n",
       "3         7           CAD  \n",
       "4         1           CAD  \n",
       "5         4           CAD  \n",
       "6         6           GBP  \n",
       "7         2           GBP  \n",
       "8         4           EUR  \n",
       "9         1           USD  "
      ]
     },
     "execution_count": 43,
     "metadata": {},
     "output_type": "execute_result"
    }
   ],
   "source": [
    "global_sales_analytics.head(10)"
   ]
  },
  {
   "cell_type": "code",
   "execution_count": 44,
   "id": "c006a929-df9d-478f-9b46-88d5f3b2ff81",
   "metadata": {},
   "outputs": [],
   "source": [
    "global_sales_analytics['Order Number'].drop_duplicates(inplace=True)"
   ]
  },
  {
   "cell_type": "code",
   "execution_count": 45,
   "id": "e7b88f62-8615-4ffd-ae3e-9089d1c2da0f",
   "metadata": {},
   "outputs": [
    {
     "data": {
      "text/plain": [
       "(24344, 8)"
      ]
     },
     "execution_count": 45,
     "metadata": {},
     "output_type": "execute_result"
    }
   ],
   "source": [
    "global_sales_analytics.shape"
   ]
  },
  {
   "cell_type": "code",
   "execution_count": 46,
   "id": "0cc4a0c0-1fcb-4f9f-986f-4df5257d4344",
   "metadata": {},
   "outputs": [],
   "source": [
    "global_products_analytics = global_products.drop(['Unit Cost USD','SubcategoryKey','CategoryKey'], axis =1)"
   ]
  },
  {
   "cell_type": "code",
   "execution_count": 47,
   "id": "8b737f06-c10a-4023-b4d1-9baa58e004ff",
   "metadata": {},
   "outputs": [
    {
     "data": {
      "text/html": [
       "<div>\n",
       "<style scoped>\n",
       "    .dataframe tbody tr th:only-of-type {\n",
       "        vertical-align: middle;\n",
       "    }\n",
       "\n",
       "    .dataframe tbody tr th {\n",
       "        vertical-align: top;\n",
       "    }\n",
       "\n",
       "    .dataframe thead th {\n",
       "        text-align: right;\n",
       "    }\n",
       "</style>\n",
       "<table border=\"1\" class=\"dataframe\">\n",
       "  <thead>\n",
       "    <tr style=\"text-align: right;\">\n",
       "      <th></th>\n",
       "      <th>ProductKey</th>\n",
       "      <th>Product Name</th>\n",
       "      <th>Brand</th>\n",
       "      <th>Color</th>\n",
       "      <th>Unit Price USD</th>\n",
       "      <th>Subcategory</th>\n",
       "      <th>Category</th>\n",
       "    </tr>\n",
       "  </thead>\n",
       "  <tbody>\n",
       "    <tr>\n",
       "      <th>2507</th>\n",
       "      <td>2508</td>\n",
       "      <td>Contoso Rubberized Snap-On Cover Hard Case Cel...</td>\n",
       "      <td>Contoso</td>\n",
       "      <td>Silver</td>\n",
       "      <td>$4.74</td>\n",
       "      <td>Cell phones Accessories</td>\n",
       "      <td>Cell phones</td>\n",
       "    </tr>\n",
       "    <tr>\n",
       "      <th>2508</th>\n",
       "      <td>2509</td>\n",
       "      <td>Contoso Original K1m Li-Ion Standard Battery E...</td>\n",
       "      <td>Contoso</td>\n",
       "      <td>Black</td>\n",
       "      <td>$4.06</td>\n",
       "      <td>Cell phones Accessories</td>\n",
       "      <td>Cell phones</td>\n",
       "    </tr>\n",
       "    <tr>\n",
       "      <th>2509</th>\n",
       "      <td>2510</td>\n",
       "      <td>Contoso Original K1m Li-Ion Standard Battery E...</td>\n",
       "      <td>Contoso</td>\n",
       "      <td>White</td>\n",
       "      <td>$4.06</td>\n",
       "      <td>Cell phones Accessories</td>\n",
       "      <td>Cell phones</td>\n",
       "    </tr>\n",
       "    <tr>\n",
       "      <th>2510</th>\n",
       "      <td>2511</td>\n",
       "      <td>Contoso Original K1m Li-Ion Standard Battery E...</td>\n",
       "      <td>Contoso</td>\n",
       "      <td>Silver</td>\n",
       "      <td>$4.06</td>\n",
       "      <td>Cell phones Accessories</td>\n",
       "      <td>Cell phones</td>\n",
       "    </tr>\n",
       "    <tr>\n",
       "      <th>2511</th>\n",
       "      <td>2512</td>\n",
       "      <td>Contoso Bluetooth Active Headphones L15 Black</td>\n",
       "      <td>Contoso</td>\n",
       "      <td>Black</td>\n",
       "      <td>$129.99</td>\n",
       "      <td>Cell phones Accessories</td>\n",
       "      <td>Cell phones</td>\n",
       "    </tr>\n",
       "    <tr>\n",
       "      <th>2512</th>\n",
       "      <td>2513</td>\n",
       "      <td>Contoso Bluetooth Active Headphones L15 Red</td>\n",
       "      <td>Contoso</td>\n",
       "      <td>Red</td>\n",
       "      <td>$129.99</td>\n",
       "      <td>Cell phones Accessories</td>\n",
       "      <td>Cell phones</td>\n",
       "    </tr>\n",
       "    <tr>\n",
       "      <th>2513</th>\n",
       "      <td>2514</td>\n",
       "      <td>Contoso Bluetooth Active Headphones L15 White</td>\n",
       "      <td>Contoso</td>\n",
       "      <td>White</td>\n",
       "      <td>$129.99</td>\n",
       "      <td>Cell phones Accessories</td>\n",
       "      <td>Cell phones</td>\n",
       "    </tr>\n",
       "    <tr>\n",
       "      <th>2514</th>\n",
       "      <td>2515</td>\n",
       "      <td>Contoso In-Line Coupler E180 White</td>\n",
       "      <td>Contoso</td>\n",
       "      <td>White</td>\n",
       "      <td>$3.35</td>\n",
       "      <td>Cell phones Accessories</td>\n",
       "      <td>Cell phones</td>\n",
       "    </tr>\n",
       "    <tr>\n",
       "      <th>2515</th>\n",
       "      <td>2516</td>\n",
       "      <td>Contoso In-Line Coupler E180 Black</td>\n",
       "      <td>Contoso</td>\n",
       "      <td>Black</td>\n",
       "      <td>$3.35</td>\n",
       "      <td>Cell phones Accessories</td>\n",
       "      <td>Cell phones</td>\n",
       "    </tr>\n",
       "    <tr>\n",
       "      <th>2516</th>\n",
       "      <td>2517</td>\n",
       "      <td>Contoso In-Line Coupler E180 Silver</td>\n",
       "      <td>Contoso</td>\n",
       "      <td>Silver</td>\n",
       "      <td>$3.35</td>\n",
       "      <td>Cell phones Accessories</td>\n",
       "      <td>Cell phones</td>\n",
       "    </tr>\n",
       "  </tbody>\n",
       "</table>\n",
       "</div>"
      ],
      "text/plain": [
       "      ProductKey                                       Product Name    Brand  \\\n",
       "2507        2508  Contoso Rubberized Snap-On Cover Hard Case Cel...  Contoso   \n",
       "2508        2509  Contoso Original K1m Li-Ion Standard Battery E...  Contoso   \n",
       "2509        2510  Contoso Original K1m Li-Ion Standard Battery E...  Contoso   \n",
       "2510        2511  Contoso Original K1m Li-Ion Standard Battery E...  Contoso   \n",
       "2511        2512      Contoso Bluetooth Active Headphones L15 Black  Contoso   \n",
       "2512        2513        Contoso Bluetooth Active Headphones L15 Red  Contoso   \n",
       "2513        2514      Contoso Bluetooth Active Headphones L15 White  Contoso   \n",
       "2514        2515                 Contoso In-Line Coupler E180 White  Contoso   \n",
       "2515        2516                 Contoso In-Line Coupler E180 Black  Contoso   \n",
       "2516        2517                Contoso In-Line Coupler E180 Silver  Contoso   \n",
       "\n",
       "       Color Unit Price USD              Subcategory     Category  \n",
       "2507  Silver         $4.74   Cell phones Accessories  Cell phones  \n",
       "2508   Black         $4.06   Cell phones Accessories  Cell phones  \n",
       "2509   White         $4.06   Cell phones Accessories  Cell phones  \n",
       "2510  Silver         $4.06   Cell phones Accessories  Cell phones  \n",
       "2511   Black       $129.99   Cell phones Accessories  Cell phones  \n",
       "2512     Red       $129.99   Cell phones Accessories  Cell phones  \n",
       "2513   White       $129.99   Cell phones Accessories  Cell phones  \n",
       "2514   White         $3.35   Cell phones Accessories  Cell phones  \n",
       "2515   Black         $3.35   Cell phones Accessories  Cell phones  \n",
       "2516  Silver         $3.35   Cell phones Accessories  Cell phones  "
      ]
     },
     "execution_count": 47,
     "metadata": {},
     "output_type": "execute_result"
    }
   ],
   "source": [
    "global_products_analytics.tail(10)"
   ]
  },
  {
   "cell_type": "code",
   "execution_count": null,
   "id": "ee669696-e23b-4b6a-81df-aca5d05b4178",
   "metadata": {},
   "outputs": [],
   "source": []
  },
  {
   "cell_type": "code",
   "execution_count": 61,
   "id": "9dca8052-8343-45f9-aea3-59c5a7448cc4",
   "metadata": {},
   "outputs": [],
   "source": [
    "global_products_analytics['Unit Price USD'] = global_products_analytics['Unit Price USD'].astype(str).replace({'$': '', ',': ''}, regex=True).astype(float)\n"
   ]
  },
  {
   "cell_type": "code",
   "execution_count": 63,
   "id": "e79bea5e-8418-452c-bb92-d9878df586d0",
   "metadata": {},
   "outputs": [
    {
     "data": {
      "text/html": [
       "<div>\n",
       "<style scoped>\n",
       "    .dataframe tbody tr th:only-of-type {\n",
       "        vertical-align: middle;\n",
       "    }\n",
       "\n",
       "    .dataframe tbody tr th {\n",
       "        vertical-align: top;\n",
       "    }\n",
       "\n",
       "    .dataframe thead th {\n",
       "        text-align: right;\n",
       "    }\n",
       "</style>\n",
       "<table border=\"1\" class=\"dataframe\">\n",
       "  <thead>\n",
       "    <tr style=\"text-align: right;\">\n",
       "      <th></th>\n",
       "      <th>ProductKey</th>\n",
       "      <th>Product Name</th>\n",
       "      <th>Brand</th>\n",
       "      <th>Color</th>\n",
       "      <th>Unit Price USD</th>\n",
       "      <th>Subcategory</th>\n",
       "      <th>Category</th>\n",
       "    </tr>\n",
       "  </thead>\n",
       "  <tbody>\n",
       "    <tr>\n",
       "      <th>0</th>\n",
       "      <td>1</td>\n",
       "      <td>Contoso 512MB MP3 Player E51 Silver</td>\n",
       "      <td>Contoso</td>\n",
       "      <td>Silver</td>\n",
       "      <td>12.99</td>\n",
       "      <td>MP4&amp;MP3</td>\n",
       "      <td>Audio</td>\n",
       "    </tr>\n",
       "    <tr>\n",
       "      <th>1</th>\n",
       "      <td>2</td>\n",
       "      <td>Contoso 512MB MP3 Player E51 Blue</td>\n",
       "      <td>Contoso</td>\n",
       "      <td>Blue</td>\n",
       "      <td>12.99</td>\n",
       "      <td>MP4&amp;MP3</td>\n",
       "      <td>Audio</td>\n",
       "    </tr>\n",
       "    <tr>\n",
       "      <th>2</th>\n",
       "      <td>3</td>\n",
       "      <td>Contoso 1G MP3 Player E100 White</td>\n",
       "      <td>Contoso</td>\n",
       "      <td>White</td>\n",
       "      <td>14.52</td>\n",
       "      <td>MP4&amp;MP3</td>\n",
       "      <td>Audio</td>\n",
       "    </tr>\n",
       "    <tr>\n",
       "      <th>3</th>\n",
       "      <td>4</td>\n",
       "      <td>Contoso 2G MP3 Player E200 Silver</td>\n",
       "      <td>Contoso</td>\n",
       "      <td>Silver</td>\n",
       "      <td>21.57</td>\n",
       "      <td>MP4&amp;MP3</td>\n",
       "      <td>Audio</td>\n",
       "    </tr>\n",
       "    <tr>\n",
       "      <th>4</th>\n",
       "      <td>5</td>\n",
       "      <td>Contoso 2G MP3 Player E200 Red</td>\n",
       "      <td>Contoso</td>\n",
       "      <td>Red</td>\n",
       "      <td>21.57</td>\n",
       "      <td>MP4&amp;MP3</td>\n",
       "      <td>Audio</td>\n",
       "    </tr>\n",
       "    <tr>\n",
       "      <th>5</th>\n",
       "      <td>6</td>\n",
       "      <td>Contoso 2G MP3 Player E200 Black</td>\n",
       "      <td>Contoso</td>\n",
       "      <td>Black</td>\n",
       "      <td>21.57</td>\n",
       "      <td>MP4&amp;MP3</td>\n",
       "      <td>Audio</td>\n",
       "    </tr>\n",
       "    <tr>\n",
       "      <th>6</th>\n",
       "      <td>7</td>\n",
       "      <td>Contoso 2G MP3 Player E200 Blue</td>\n",
       "      <td>Contoso</td>\n",
       "      <td>Blue</td>\n",
       "      <td>21.57</td>\n",
       "      <td>MP4&amp;MP3</td>\n",
       "      <td>Audio</td>\n",
       "    </tr>\n",
       "    <tr>\n",
       "      <th>7</th>\n",
       "      <td>8</td>\n",
       "      <td>Contoso 4G MP3 Player E400 Silver</td>\n",
       "      <td>Contoso</td>\n",
       "      <td>Silver</td>\n",
       "      <td>59.99</td>\n",
       "      <td>MP4&amp;MP3</td>\n",
       "      <td>Audio</td>\n",
       "    </tr>\n",
       "    <tr>\n",
       "      <th>8</th>\n",
       "      <td>9</td>\n",
       "      <td>Contoso 4G MP3 Player E400 Black</td>\n",
       "      <td>Contoso</td>\n",
       "      <td>Black</td>\n",
       "      <td>59.99</td>\n",
       "      <td>MP4&amp;MP3</td>\n",
       "      <td>Audio</td>\n",
       "    </tr>\n",
       "    <tr>\n",
       "      <th>9</th>\n",
       "      <td>10</td>\n",
       "      <td>Contoso 4G MP3 Player E400 Green</td>\n",
       "      <td>Contoso</td>\n",
       "      <td>Green</td>\n",
       "      <td>59.99</td>\n",
       "      <td>MP4&amp;MP3</td>\n",
       "      <td>Audio</td>\n",
       "    </tr>\n",
       "  </tbody>\n",
       "</table>\n",
       "</div>"
      ],
      "text/plain": [
       "   ProductKey                         Product Name    Brand   Color  \\\n",
       "0           1  Contoso 512MB MP3 Player E51 Silver  Contoso  Silver   \n",
       "1           2    Contoso 512MB MP3 Player E51 Blue  Contoso    Blue   \n",
       "2           3     Contoso 1G MP3 Player E100 White  Contoso   White   \n",
       "3           4    Contoso 2G MP3 Player E200 Silver  Contoso  Silver   \n",
       "4           5       Contoso 2G MP3 Player E200 Red  Contoso     Red   \n",
       "5           6     Contoso 2G MP3 Player E200 Black  Contoso   Black   \n",
       "6           7      Contoso 2G MP3 Player E200 Blue  Contoso    Blue   \n",
       "7           8    Contoso 4G MP3 Player E400 Silver  Contoso  Silver   \n",
       "8           9     Contoso 4G MP3 Player E400 Black  Contoso   Black   \n",
       "9          10     Contoso 4G MP3 Player E400 Green  Contoso   Green   \n",
       "\n",
       "   Unit Price USD Subcategory Category  \n",
       "0           12.99     MP4&MP3    Audio  \n",
       "1           12.99     MP4&MP3    Audio  \n",
       "2           14.52     MP4&MP3    Audio  \n",
       "3           21.57     MP4&MP3    Audio  \n",
       "4           21.57     MP4&MP3    Audio  \n",
       "5           21.57     MP4&MP3    Audio  \n",
       "6           21.57     MP4&MP3    Audio  \n",
       "7           59.99     MP4&MP3    Audio  \n",
       "8           59.99     MP4&MP3    Audio  \n",
       "9           59.99     MP4&MP3    Audio  "
      ]
     },
     "execution_count": 63,
     "metadata": {},
     "output_type": "execute_result"
    }
   ],
   "source": [
    "global_products_analytics.head(10)"
   ]
  },
  {
   "cell_type": "code",
   "execution_count": 69,
   "id": "dab6d11a-3e5d-4591-8c53-211a58126bd2",
   "metadata": {},
   "outputs": [],
   "source": [
    "global_products_analytics.drop_duplicates(inplace=True)"
   ]
  },
  {
   "cell_type": "code",
   "execution_count": 71,
   "id": "6ba06395-2335-491d-ae55-8efe408624e6",
   "metadata": {},
   "outputs": [],
   "source": [
    "global_customers_analytics = global_customers.drop(['State Code','Zip Code','Birthday', 'Name', 'Continent'], axis =1)"
   ]
  },
  {
   "cell_type": "code",
   "execution_count": null,
   "id": "981e243e-275c-4a0c-bc40-57b7ac8bd543",
   "metadata": {},
   "outputs": [],
   "source": []
  },
  {
   "cell_type": "code",
   "execution_count": 73,
   "id": "101e05f1-f8b8-49b3-b6f1-9b068fa2922b",
   "metadata": {},
   "outputs": [
    {
     "data": {
      "text/html": [
       "<div>\n",
       "<style scoped>\n",
       "    .dataframe tbody tr th:only-of-type {\n",
       "        vertical-align: middle;\n",
       "    }\n",
       "\n",
       "    .dataframe tbody tr th {\n",
       "        vertical-align: top;\n",
       "    }\n",
       "\n",
       "    .dataframe thead th {\n",
       "        text-align: right;\n",
       "    }\n",
       "</style>\n",
       "<table border=\"1\" class=\"dataframe\">\n",
       "  <thead>\n",
       "    <tr style=\"text-align: right;\">\n",
       "      <th></th>\n",
       "      <th>CustomerKey</th>\n",
       "      <th>Gender</th>\n",
       "      <th>City</th>\n",
       "      <th>State</th>\n",
       "      <th>Country</th>\n",
       "    </tr>\n",
       "  </thead>\n",
       "  <tbody>\n",
       "    <tr>\n",
       "      <th>0</th>\n",
       "      <td>301</td>\n",
       "      <td>Female</td>\n",
       "      <td>WANDEARAH EAST</td>\n",
       "      <td>South Australia</td>\n",
       "      <td>Australia</td>\n",
       "    </tr>\n",
       "    <tr>\n",
       "      <th>1</th>\n",
       "      <td>325</td>\n",
       "      <td>Female</td>\n",
       "      <td>MOUNT BUDD</td>\n",
       "      <td>Western Australia</td>\n",
       "      <td>Australia</td>\n",
       "    </tr>\n",
       "    <tr>\n",
       "      <th>2</th>\n",
       "      <td>554</td>\n",
       "      <td>Female</td>\n",
       "      <td>WINJALLOK</td>\n",
       "      <td>Victoria</td>\n",
       "      <td>Australia</td>\n",
       "    </tr>\n",
       "    <tr>\n",
       "      <th>3</th>\n",
       "      <td>786</td>\n",
       "      <td>Male</td>\n",
       "      <td>MIDDLE RIVER</td>\n",
       "      <td>South Australia</td>\n",
       "      <td>Australia</td>\n",
       "    </tr>\n",
       "    <tr>\n",
       "      <th>4</th>\n",
       "      <td>1042</td>\n",
       "      <td>Male</td>\n",
       "      <td>TAWONGA SOUTH</td>\n",
       "      <td>Victoria</td>\n",
       "      <td>Australia</td>\n",
       "    </tr>\n",
       "    <tr>\n",
       "      <th>5</th>\n",
       "      <td>1086</td>\n",
       "      <td>Male</td>\n",
       "      <td>TEMPLERS</td>\n",
       "      <td>South Australia</td>\n",
       "      <td>Australia</td>\n",
       "    </tr>\n",
       "    <tr>\n",
       "      <th>6</th>\n",
       "      <td>1133</td>\n",
       "      <td>Male</td>\n",
       "      <td>JUBILEE POCKET</td>\n",
       "      <td>Queensland</td>\n",
       "      <td>Australia</td>\n",
       "    </tr>\n",
       "    <tr>\n",
       "      <th>7</th>\n",
       "      <td>1256</td>\n",
       "      <td>Male</td>\n",
       "      <td>KULLOGUM</td>\n",
       "      <td>Queensland</td>\n",
       "      <td>Australia</td>\n",
       "    </tr>\n",
       "    <tr>\n",
       "      <th>8</th>\n",
       "      <td>1314</td>\n",
       "      <td>Male</td>\n",
       "      <td>EDITH RIVER</td>\n",
       "      <td>Northern Territory</td>\n",
       "      <td>Australia</td>\n",
       "    </tr>\n",
       "    <tr>\n",
       "      <th>9</th>\n",
       "      <td>1568</td>\n",
       "      <td>Male</td>\n",
       "      <td>KOTTA</td>\n",
       "      <td>Victoria</td>\n",
       "      <td>Australia</td>\n",
       "    </tr>\n",
       "  </tbody>\n",
       "</table>\n",
       "</div>"
      ],
      "text/plain": [
       "   CustomerKey  Gender            City               State    Country\n",
       "0          301  Female  WANDEARAH EAST     South Australia  Australia\n",
       "1          325  Female      MOUNT BUDD   Western Australia  Australia\n",
       "2          554  Female       WINJALLOK            Victoria  Australia\n",
       "3          786    Male    MIDDLE RIVER     South Australia  Australia\n",
       "4         1042    Male   TAWONGA SOUTH            Victoria  Australia\n",
       "5         1086    Male        TEMPLERS     South Australia  Australia\n",
       "6         1133    Male  JUBILEE POCKET          Queensland  Australia\n",
       "7         1256    Male        KULLOGUM          Queensland  Australia\n",
       "8         1314    Male     EDITH RIVER  Northern Territory  Australia\n",
       "9         1568    Male           KOTTA            Victoria  Australia"
      ]
     },
     "execution_count": 73,
     "metadata": {},
     "output_type": "execute_result"
    }
   ],
   "source": [
    "global_customers_analytics.head(10)"
   ]
  },
  {
   "cell_type": "code",
   "execution_count": 75,
   "id": "6de3eb1d-c089-4a0d-8b2d-285af80cd99c",
   "metadata": {},
   "outputs": [],
   "source": [
    "global_customers_analytics.drop_duplicates(inplace=True)"
   ]
  },
  {
   "cell_type": "code",
   "execution_count": 77,
   "id": "f7eae5af-2c41-4edb-a0cd-255f24cafbce",
   "metadata": {},
   "outputs": [
    {
     "data": {
      "text/plain": [
       "'AustraliaCanadaGermanyFranceItalyNetherlandsUnited KingdomUnited States'"
      ]
     },
     "execution_count": 77,
     "metadata": {},
     "output_type": "execute_result"
    }
   ],
   "source": [
    "global_customers_analytics['Country'].unique().sum()"
   ]
  },
  {
   "cell_type": "code",
   "execution_count": 79,
   "id": "4f877b86-3ddb-478a-b43f-d7a734d3b16d",
   "metadata": {},
   "outputs": [],
   "source": [
    "global_stores_analytics = global_Stores.drop(['Square Meters','Open Date'], axis =1)"
   ]
  },
  {
   "cell_type": "code",
   "execution_count": 81,
   "id": "c23fea7a-f373-4f0d-92df-854f2128c149",
   "metadata": {},
   "outputs": [
    {
     "data": {
      "text/html": [
       "<div>\n",
       "<style scoped>\n",
       "    .dataframe tbody tr th:only-of-type {\n",
       "        vertical-align: middle;\n",
       "    }\n",
       "\n",
       "    .dataframe tbody tr th {\n",
       "        vertical-align: top;\n",
       "    }\n",
       "\n",
       "    .dataframe thead th {\n",
       "        text-align: right;\n",
       "    }\n",
       "</style>\n",
       "<table border=\"1\" class=\"dataframe\">\n",
       "  <thead>\n",
       "    <tr style=\"text-align: right;\">\n",
       "      <th></th>\n",
       "      <th>StoreKey</th>\n",
       "      <th>Country</th>\n",
       "      <th>State</th>\n",
       "    </tr>\n",
       "  </thead>\n",
       "  <tbody>\n",
       "    <tr>\n",
       "      <th>0</th>\n",
       "      <td>1</td>\n",
       "      <td>Australia</td>\n",
       "      <td>Australian Capital Territory</td>\n",
       "    </tr>\n",
       "    <tr>\n",
       "      <th>1</th>\n",
       "      <td>2</td>\n",
       "      <td>Australia</td>\n",
       "      <td>Northern Territory</td>\n",
       "    </tr>\n",
       "    <tr>\n",
       "      <th>2</th>\n",
       "      <td>3</td>\n",
       "      <td>Australia</td>\n",
       "      <td>South Australia</td>\n",
       "    </tr>\n",
       "    <tr>\n",
       "      <th>3</th>\n",
       "      <td>4</td>\n",
       "      <td>Australia</td>\n",
       "      <td>Tasmania</td>\n",
       "    </tr>\n",
       "    <tr>\n",
       "      <th>4</th>\n",
       "      <td>5</td>\n",
       "      <td>Australia</td>\n",
       "      <td>Victoria</td>\n",
       "    </tr>\n",
       "    <tr>\n",
       "      <th>5</th>\n",
       "      <td>6</td>\n",
       "      <td>Australia</td>\n",
       "      <td>Western Australia</td>\n",
       "    </tr>\n",
       "    <tr>\n",
       "      <th>6</th>\n",
       "      <td>7</td>\n",
       "      <td>Canada</td>\n",
       "      <td>New Brunswick</td>\n",
       "    </tr>\n",
       "    <tr>\n",
       "      <th>7</th>\n",
       "      <td>8</td>\n",
       "      <td>Canada</td>\n",
       "      <td>Newfoundland and Labrador</td>\n",
       "    </tr>\n",
       "    <tr>\n",
       "      <th>8</th>\n",
       "      <td>9</td>\n",
       "      <td>Canada</td>\n",
       "      <td>Northwest Territories</td>\n",
       "    </tr>\n",
       "    <tr>\n",
       "      <th>9</th>\n",
       "      <td>10</td>\n",
       "      <td>Canada</td>\n",
       "      <td>Nunavut</td>\n",
       "    </tr>\n",
       "  </tbody>\n",
       "</table>\n",
       "</div>"
      ],
      "text/plain": [
       "   StoreKey    Country                         State\n",
       "0         1  Australia  Australian Capital Territory\n",
       "1         2  Australia            Northern Territory\n",
       "2         3  Australia               South Australia\n",
       "3         4  Australia                      Tasmania\n",
       "4         5  Australia                      Victoria\n",
       "5         6  Australia             Western Australia\n",
       "6         7     Canada                 New Brunswick\n",
       "7         8     Canada     Newfoundland and Labrador\n",
       "8         9     Canada         Northwest Territories\n",
       "9        10     Canada                       Nunavut"
      ]
     },
     "execution_count": 81,
     "metadata": {},
     "output_type": "execute_result"
    }
   ],
   "source": [
    "global_stores_analytics.head(10)"
   ]
  },
  {
   "cell_type": "code",
   "execution_count": 83,
   "id": "bc71fb8c-3fb3-4614-85f1-1c9bbd7d97dc",
   "metadata": {},
   "outputs": [],
   "source": [
    "global_stores_analytics.drop_duplicates(inplace=True)"
   ]
  },
  {
   "cell_type": "code",
   "execution_count": 85,
   "id": "ecd2627c-ac4c-42cb-9931-fc9558133cf6",
   "metadata": {},
   "outputs": [
    {
     "name": "stdout",
     "output_type": "stream",
     "text": [
      "Requirement already satisfied: mysql-connector-python in c:\\users\\thang\\anaconda3\\lib\\site-packages (9.0.0)\n"
     ]
    }
   ],
   "source": [
    "!pip install mysql-connector-python"
   ]
  },
  {
   "cell_type": "code",
   "execution_count": 87,
   "id": "27977b3c-a231-417e-9f6e-c3cc7234329c",
   "metadata": {},
   "outputs": [],
   "source": [
    "import mysql.connector"
   ]
  },
  {
   "cell_type": "code",
   "execution_count": 89,
   "id": "8921b890-c90a-472f-a6a6-8e9e410fb408",
   "metadata": {},
   "outputs": [],
   "source": [
    "# Step 1: Establish a connection to MySQL\n",
    "conn = mysql.connector.connect(\n",
    "    host='localhost',       # or your MySQL server IP\n",
    "    user='root',   # your MySQL username\n",
    "    password='123456789',  # your MySQL password\n",
    "    database='ds_projects'  # your MySQL database\n",
    ")\n",
    "\n",
    "# Step 2: Create a cursor object\n",
    "cursor = conn.cursor()\n",
    "\n",
    "# Step 3: Convert DataFrame to SQL INSERT statements\n",
    "for i, row in global_stores_analytics.iterrows():\n",
    "    sql = \"INSERT INTO global_stores (StoreKey,\tCountry, State) VALUES (%s, %s, %s)\"\n",
    "    cursor.execute(sql, tuple(row))\n",
    "\n",
    "# Step 4: Commit and close the connection\n",
    "conn.commit()\n",
    "cursor.close()\n",
    "conn.close()"
   ]
  },
  {
   "cell_type": "code",
   "execution_count": 91,
   "id": "c8ec4f26-b30f-4071-82de-a549d75fa16e",
   "metadata": {},
   "outputs": [],
   "source": [
    "\n",
    "conn = mysql.connector.connect(\n",
    "    host='localhost',       # or your MySQL server IP\n",
    "    user='root',   # your MySQL username\n",
    "    password='123456789',  # your MySQL password\n",
    "    database='ds_projects'  # your MySQL database\n",
    ")\n",
    "\n",
    "cursor = conn.cursor()\n",
    "\n",
    "for i, row in global_customers_analytics.iterrows():\n",
    "    sql = \"INSERT INTO global_customers (CustomerKey,Gender,City,State,Country) VALUES (%s, %s, %s, %s, %s)\"\n",
    "    cursor.execute(sql, tuple(row))\n",
    "\n",
    "conn.commit()\n",
    "cursor.close()\n",
    "conn.close()"
   ]
  },
  {
   "cell_type": "code",
   "execution_count": 93,
   "id": "843c7274-a0cc-4cb5-b943-16560013c27e",
   "metadata": {},
   "outputs": [],
   "source": [
    "conn = mysql.connector.connect(\n",
    "    host='localhost',       # or your MySQL server IP\n",
    "    user='root',   # your MySQL username\n",
    "    password='123456789',  # your MySQL password\n",
    "    database='ds_projects'  # your MySQL database\n",
    ")\n",
    "\n",
    "cursor = conn.cursor()\n",
    "\n",
    "for i, row in global_products_analytics.iterrows():\n",
    "    sql = \"INSERT INTO global_products (ProductKey,Product_Name,Brand,Color,Unit_Price_USD,Subcategory,Category) VALUES (%s, %s, %s, %s, %s,%s, %s)\"\n",
    "    cursor.execute(sql, tuple(row))\n",
    "\n",
    "conn.commit()\n",
    "cursor.close()\n",
    "conn.close()"
   ]
  },
  {
   "cell_type": "code",
   "execution_count": null,
   "id": "13ba323b-fb60-4945-966c-33aba58ad812",
   "metadata": {},
   "outputs": [],
   "source": []
  },
  {
   "cell_type": "code",
   "execution_count": 57,
   "id": "32a28221-8470-4db0-8705-dc3259a09b24",
   "metadata": {},
   "outputs": [],
   "source": [
    "conn = mysql.connector.connect(\n",
    "    host='localhost',       # or your MySQL server IP\n",
    "    user='root',   # your MySQL username\n",
    "    password='123456789',  # your MySQL password\n",
    "    database='ds_projects'  # your MySQL database\n",
    ")\n",
    "\n",
    "cursor = conn.cursor()\n",
    "\n",
    "for i, row in global_sales_analytics.iterrows():\n",
    "    sql = \"INSERT INTO global_sales (Order_Number, Order_Date, Delivery_Date,CustomerKey,StoreKey,ProductKey,Quantity,Currency_Code) VALUES (%s, %s, %s, %s, %s,%s, %s,%s)\"\n",
    "    cursor.execute(sql, tuple(row))\n",
    "\n",
    "conn.commit()\n",
    "cursor.close()\n",
    "conn.close()"
   ]
  },
  {
   "cell_type": "code",
   "execution_count": null,
   "id": "df85bc59-eb1a-484b-ac2c-89d190223147",
   "metadata": {},
   "outputs": [],
   "source": []
  },
  {
   "cell_type": "code",
   "execution_count": null,
   "id": "6ac10ab1-0704-44e7-b64a-f7e197f3a694",
   "metadata": {},
   "outputs": [],
   "source": []
  }
 ],
 "metadata": {
  "kernelspec": {
   "display_name": "Python 3 (ipykernel)",
   "language": "python",
   "name": "python3"
  },
  "language_info": {
   "codemirror_mode": {
    "name": "ipython",
    "version": 3
   },
   "file_extension": ".py",
   "mimetype": "text/x-python",
   "name": "python",
   "nbconvert_exporter": "python",
   "pygments_lexer": "ipython3",
   "version": "3.12.4"
  }
 },
 "nbformat": 4,
 "nbformat_minor": 5
}
